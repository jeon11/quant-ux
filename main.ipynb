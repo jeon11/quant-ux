{
 "cells": [
  {
   "cell_type": "markdown",
   "metadata": {},
   "source": [
    "# Quantitative Data Analysis\n",
    "\n",
    "In this notebook, I use survey data collected from Amazon Mechanical Turk and Reddit user groups (all personal data  have been removed) in a study to examine the impact of cultural localization on web-based account creation between American and Korean users. I use the experiment data to display basic statistical tests in Python. \n",
    "\n",
    "### Research Question:\n",
    "> **_Is there a difference in providing personal information between USA and Korean Internet users <br>\n",
    "> within two different use scenarios: online banking and shopping?_**\n",
    "\n",
    "I use the following tests: \n",
    "\n",
    "1. **[Pearson Correlation Coefficient](#1.-Pearson-Correlation-Coefficient)**\n",
    "2. **[T-Test](#2.-T-Test)**\n",
    "3. **[Mann-Whitney Test](#3.-Mann-Whitney-Test)**\n",
    "4. **[One-Way Analysis of Variance (ANOVA)](#4.-One-Way-Analysis-of-Variance-(ANOVA))**\n",
    "5. **[Two-Way ANOVA](#5.-Two-Way-ANOVA)**\n"
   ]
  },
  {
   "cell_type": "code",
   "execution_count": 1,
   "metadata": {},
   "outputs": [
    {
     "name": "stderr",
     "output_type": "stream",
     "text": [
      "/anaconda3/envs/py3/lib/python3.6/site-packages/statsmodels/tools/_testing.py:19: FutureWarning: pandas.util.testing is deprecated. Use the functions in the public API at pandas.testing instead.\n",
      "  import pandas.util.testing as tm\n"
     ]
    }
   ],
   "source": [
    "import os\n",
    "import pandas as pd\n",
    "import numpy as np\n",
    "import seaborn as sns\n",
    "import scipy\n",
    "from matplotlib import pyplot\n",
    "import matplotlib.pyplot as plt\n",
    "from statsmodels.formula.api import ols\n",
    "import statsmodels.formula.api as smf\n",
    "import statsmodels.api as sm\n",
    "from statsmodels.stats.anova import AnovaRM\n",
    "import pdb  # for debugging\n",
    "import warnings\n",
    "warnings.simplefilter(action='ignore', category=FutureWarning)\n",
    "\n",
    "# set color\n",
    "sns.set_color_codes('pastel')"
   ]
  },
  {
   "cell_type": "markdown",
   "metadata": {},
   "source": [
    "## Setup & Querying Data\n",
    "\n",
    "It is first critical to understand the dataframe to play around and make analysis. Usually, **_long-format_** data is desired (or at least I'm used to it) for using Python and Seaborn for data visualization. Long format is basically when each variable is represented as a column, and each observation or event is a row. Below, we read in, and query the data.\n",
    "\n",
    "#### Useful commands: \n",
    "1. `df.head()`: by default, shows first five rows of df\n",
    "2. `df.columns()`: prints all the columns in df\n",
    "3. `df.describe()`: provides summary description of df\n",
    "3. `pd.read_csv(data, usecols=['col1', 'col2', ...,]`: can be used to filter columns"
   ]
  },
  {
   "cell_type": "code",
   "execution_count": 2,
   "metadata": {},
   "outputs": [],
   "source": [
    "# read in data.csv file as df & see data structure\n",
    "df = pd.read_csv('data.csv')\n",
    "\n",
    "# query data by scenario and culture\n",
    "bank = df.query(\"scenario == 'Bank'\").copy()\n",
    "shop = df.query(\"scenario == 'Shop'\").copy()\n",
    "kor = df.query(\"culture == 'Korea'\").copy()\n",
    "usa = df.query(\"culture == 'USA'\").copy()"
   ]
  },
  {
   "cell_type": "code",
   "execution_count": 3,
   "metadata": {},
   "outputs": [
    {
     "data": {
      "text/html": [
       "<div>\n",
       "<style scoped>\n",
       "    .dataframe tbody tr th:only-of-type {\n",
       "        vertical-align: middle;\n",
       "    }\n",
       "\n",
       "    .dataframe tbody tr th {\n",
       "        vertical-align: top;\n",
       "    }\n",
       "\n",
       "    .dataframe thead th {\n",
       "        text-align: right;\n",
       "    }\n",
       "</style>\n",
       "<table border=\"1\" class=\"dataframe\">\n",
       "  <thead>\n",
       "    <tr style=\"text-align: right;\">\n",
       "      <th></th>\n",
       "      <th>UserGuid</th>\n",
       "      <th>culture</th>\n",
       "      <th>scenario</th>\n",
       "      <th>interface</th>\n",
       "      <th>complete</th>\n",
       "      <th>first</th>\n",
       "      <th>last</th>\n",
       "      <th>phone</th>\n",
       "      <th>dob</th>\n",
       "      <th>sex</th>\n",
       "      <th>...</th>\n",
       "      <th>address</th>\n",
       "      <th>citizenship</th>\n",
       "      <th>website</th>\n",
       "      <th>password</th>\n",
       "      <th>username</th>\n",
       "      <th>relationship</th>\n",
       "      <th>reason</th>\n",
       "      <th>total</th>\n",
       "      <th>total_possible</th>\n",
       "      <th>percent</th>\n",
       "    </tr>\n",
       "  </thead>\n",
       "  <tbody>\n",
       "    <tr>\n",
       "      <th>0</th>\n",
       "      <td>0</td>\n",
       "      <td>USA</td>\n",
       "      <td>Bank</td>\n",
       "      <td>A</td>\n",
       "      <td>-</td>\n",
       "      <td>1</td>\n",
       "      <td>1</td>\n",
       "      <td>1</td>\n",
       "      <td>2</td>\n",
       "      <td>0</td>\n",
       "      <td>...</td>\n",
       "      <td>3</td>\n",
       "      <td>0</td>\n",
       "      <td>0</td>\n",
       "      <td>3</td>\n",
       "      <td>1</td>\n",
       "      <td>0</td>\n",
       "      <td>-</td>\n",
       "      <td>14</td>\n",
       "      <td>27</td>\n",
       "      <td>0.518519</td>\n",
       "    </tr>\n",
       "    <tr>\n",
       "      <th>1</th>\n",
       "      <td>0</td>\n",
       "      <td>USA</td>\n",
       "      <td>Shop</td>\n",
       "      <td>A</td>\n",
       "      <td>-</td>\n",
       "      <td>0</td>\n",
       "      <td>0</td>\n",
       "      <td>0</td>\n",
       "      <td>0</td>\n",
       "      <td>0</td>\n",
       "      <td>...</td>\n",
       "      <td>0</td>\n",
       "      <td>0</td>\n",
       "      <td>0</td>\n",
       "      <td>3</td>\n",
       "      <td>1</td>\n",
       "      <td>0</td>\n",
       "      <td>-</td>\n",
       "      <td>5</td>\n",
       "      <td>24</td>\n",
       "      <td>0.208333</td>\n",
       "    </tr>\n",
       "    <tr>\n",
       "      <th>2</th>\n",
       "      <td>0</td>\n",
       "      <td>USA</td>\n",
       "      <td>Bank</td>\n",
       "      <td>B</td>\n",
       "      <td>-</td>\n",
       "      <td>1</td>\n",
       "      <td>1</td>\n",
       "      <td>1</td>\n",
       "      <td>2</td>\n",
       "      <td>0</td>\n",
       "      <td>...</td>\n",
       "      <td>3</td>\n",
       "      <td>0</td>\n",
       "      <td>0</td>\n",
       "      <td>3</td>\n",
       "      <td>1</td>\n",
       "      <td>0</td>\n",
       "      <td>-</td>\n",
       "      <td>14</td>\n",
       "      <td>27</td>\n",
       "      <td>0.518519</td>\n",
       "    </tr>\n",
       "    <tr>\n",
       "      <th>3</th>\n",
       "      <td>0</td>\n",
       "      <td>USA</td>\n",
       "      <td>Shop</td>\n",
       "      <td>B</td>\n",
       "      <td>-</td>\n",
       "      <td>0</td>\n",
       "      <td>0</td>\n",
       "      <td>0</td>\n",
       "      <td>0</td>\n",
       "      <td>0</td>\n",
       "      <td>...</td>\n",
       "      <td>0</td>\n",
       "      <td>0</td>\n",
       "      <td>0</td>\n",
       "      <td>3</td>\n",
       "      <td>1</td>\n",
       "      <td>0</td>\n",
       "      <td>-</td>\n",
       "      <td>5</td>\n",
       "      <td>24</td>\n",
       "      <td>0.208333</td>\n",
       "    </tr>\n",
       "    <tr>\n",
       "      <th>4</th>\n",
       "      <td>1</td>\n",
       "      <td>USA</td>\n",
       "      <td>Bank</td>\n",
       "      <td>A</td>\n",
       "      <td>-</td>\n",
       "      <td>1</td>\n",
       "      <td>0</td>\n",
       "      <td>0</td>\n",
       "      <td>0</td>\n",
       "      <td>0</td>\n",
       "      <td>...</td>\n",
       "      <td>0</td>\n",
       "      <td>0</td>\n",
       "      <td>0</td>\n",
       "      <td>0</td>\n",
       "      <td>0</td>\n",
       "      <td>0</td>\n",
       "      <td>-</td>\n",
       "      <td>1</td>\n",
       "      <td>27</td>\n",
       "      <td>0.037037</td>\n",
       "    </tr>\n",
       "  </tbody>\n",
       "</table>\n",
       "<p>5 rows × 24 columns</p>\n",
       "</div>"
      ],
      "text/plain": [
       "   UserGuid culture scenario interface complete first last phone dob sex  ...  \\\n",
       "0         0     USA     Bank         A        -     1    1     1   2   0  ...   \n",
       "1         0     USA     Shop         A        -     0    0     0   0   0  ...   \n",
       "2         0     USA     Bank         B        -     1    1     1   2   0  ...   \n",
       "3         0     USA     Shop         B        -     0    0     0   0   0  ...   \n",
       "4         1     USA     Bank         A        -     1    0     0   0   0  ...   \n",
       "\n",
       "  address citizenship website password username relationship reason total  \\\n",
       "0       3           0       0        3        1            0      -    14   \n",
       "1       0           0       0        3        1            0      -     5   \n",
       "2       3           0       0        3        1            0      -    14   \n",
       "3       0           0       0        3        1            0      -     5   \n",
       "4       0           0       0        0        0            0      -     1   \n",
       "\n",
       "  total_possible   percent  \n",
       "0             27  0.518519  \n",
       "1             24  0.208333  \n",
       "2             27  0.518519  \n",
       "3             24  0.208333  \n",
       "4             27  0.037037  \n",
       "\n",
       "[5 rows x 24 columns]"
      ]
     },
     "execution_count": 3,
     "metadata": {},
     "output_type": "execute_result"
    }
   ],
   "source": [
    "# an example of the data structure\n",
    "usa.head()"
   ]
  },
  {
   "cell_type": "markdown",
   "metadata": {},
   "source": [
    "---------------------------\n",
    "## 1. Pearson Correlation Coefficient\n",
    "\n",
    "When we want to ask _\"how strongly correlated are the two variables?\"_, we can use **Perason's Correlation**. It is used to measure statistical relationship or association between two **_continuous variables_** that are linearly related to each other. The coefficient value _\"r\"_ ranges from -1 (negative relation) to 1 (perfectly positive). 0 would mean that there is no relationship at all. \n",
    "\n",
    "### Properties of Pearson Correlation\n",
    "1. The units of the values do not affect the Pearson Correlation. \n",
    "    - i.e. Changing the unit of value from cm to inches do not affect the r value\n",
    "2. The correlation between the two variables is symmetric: \n",
    "    - i.e. A -> B is equal to B -> A\n",
    "    \n",
    "** Use **_Spearman's Correlation_** when the two variables have non-linear relationship (e.g. a curve instead of a straight line). \n",
    "\n",
    "### Code Implementation\n",
    "We use scipy package to calculate the Pearson Correlation. The method will return two values: **_r_** and **_p_** value. "
   ]
  },
  {
   "cell_type": "code",
   "execution_count": 4,
   "metadata": {},
   "outputs": [
    {
     "name": "stdout",
     "output_type": "stream",
     "text": [
      "r: 0.7592\n",
      "p: 0.0\n"
     ]
    }
   ],
   "source": [
    "# let's look at the correlation of information provided by different scenarios: online banking vs. shopping\n",
    "# bank['percent'] will return an array of percentage values\n",
    "\n",
    "r, p = scipy.stats.pearsonr(bank['percent'], shop['percent'])  \n",
    "print('r: ' + str(r.round(4)))\n",
    "print('p: ' + str(p.round(4)))"
   ]
  },
  {
   "cell_type": "markdown",
   "metadata": {},
   "source": [
    "From the results above, we can see **there is a strong positive relationship between the amount of information provided in banking and shopping.** i.e. Providing information in banking would affect how a user provides personal information in shopping. "
   ]
  },
  {
   "cell_type": "markdown",
   "metadata": {},
   "source": [
    "----------------------------------\n",
    "## 2. T-Test\n",
    "When comparing the means of two groups, we can use a **t-test**. It takes into account of the means and the spread of the data to determine **_whether a difference between the two would occur by chance or not_** (determined by the p-value being less than 0.05 usually). In a t-test, there should be only two independent variables (categorical/nominal variables) and one dependent continuous variable. "
   ]
  },
  {
   "cell_type": "markdown",
   "metadata": {},
   "source": [
    "### Properties of t-test\n",
    "\n",
    "1. The data is assumed to be **normal** (If the distribution is skewed, use Mann-Whitney test). <br><br>\n",
    "\n",
    "2. T-test yields **_t_** and **_p_** value:<br>\n",
    "    2a. **The higher the t, the more difference there is between the two groups.** The lower the t, the more similar the two groups are.<br>\n",
    "    2b. T-value of 2 means the groups are twice as different from each other than they are within each other<br>\n",
    "    2c. **The lower the p-value, the better** (meaning that it is significant and the difference did not occure by chance). P-value of 0.05 means that there is 5 percent happening by chance\n",
    "\n",
    "\n",
    "### Code Implementation\n",
    "We use scipy package again to run a t-test. Before we decide which test to run, we can quickly plot and see the distribution like below. \n"
   ]
  },
  {
   "cell_type": "code",
   "execution_count": 5,
   "metadata": {},
   "outputs": [
    {
     "data": {
      "text/plain": [
       "<matplotlib.axes._subplots.AxesSubplot at 0x1c238f61d0>"
      ]
     },
     "execution_count": 5,
     "metadata": {},
     "output_type": "execute_result"
    },
    {
     "data": {
      "image/png": "[encoded data removed]",
      "text/plain": [
       "<Figure size 432x288 with 1 Axes>"
      ]
     },
     "metadata": {
      "needs_background": "light"
     },
     "output_type": "display_data"
    }
   ],
   "source": [
    "sns.distplot(df[df['scenario'] == 'Bank'].percent)"
   ]
  },
  {
   "cell_type": "markdown",
   "metadata": {},
   "source": [
    "The distribution looks relatively normal. We can run a t-test to see whether there is a difference between the total amount of information provided by the users from each use scenario: i.e. banking vs. shopping"
   ]
  },
  {
   "cell_type": "code",
   "execution_count": 6,
   "metadata": {},
   "outputs": [
    {
     "name": "stdout",
     "output_type": "stream",
     "text": [
      "t: 4.8203\n",
      "p: 2e-06\n"
     ]
    }
   ],
   "source": [
    "# we run a t-test to see whether there ia a difference in the amount of information provided in each scenario\n",
    "t, p = scipy.stats.ttest_ind(df[df['scenario'] == 'Bank'].percent, df[df['scenario'] == 'Shop'].percent)\n",
    "print('t: ' + str(t.round(4)))\n",
    "print('p: ' + str(p.round(6)))"
   ]
  },
  {
   "cell_type": "markdown",
   "metadata": {},
   "source": [
    "The result above shows that there is a significant difference in the amount of information provided between two use scenarios with t-value being high, and p-value being very small. However, we don't actually know which scenario yields more information than the other. The t-test only tells there is a significant difference. \n",
    "\n",
    "To find out, we can create a little fancy distribution plot with some box plots:"
   ]
  },
  {
   "cell_type": "code",
   "execution_count": 7,
   "metadata": {},
   "outputs": [
    {
     "data": {
      "text/plain": [
       "[Text(0.5, 0, '')]"
      ]
     },
     "execution_count": 7,
     "metadata": {},
     "output_type": "execute_result"
    },
    {
     "data": {
      "image/png": "[encoded data removed]",
      "text/plain": [
       "<Figure size 432x288 with 3 Axes>"
      ]
     },
     "metadata": {
      "needs_background": "light"
     },
     "output_type": "display_data"
    }
   ],
   "source": [
    "banking = df[df['scenario'] == 'Bank'].percent\n",
    "shopping = df[df['scenario'] == 'Shop'].percent\n",
    "\n",
    "# let's plot box-dist plot combined\n",
    "f, (ax_box1, ax_box2, ax_dist) = plt.subplots(3, sharex=True, \n",
    "                                              gridspec_kw= {\"height_ratios\": (0.3, 0.3, 1)})\n",
    "\n",
    "# add boxplots at the top\n",
    "sns.boxplot(banking, ax=ax_box1, color='g')\n",
    "sns.boxplot(shopping, ax=ax_box2, color='m')\n",
    "ax_box1.axvline(np.mean(banking), color='g', linestyle='--')\n",
    "ax_box2.axvline(np.mean(shopping), color='m', linestyle='--')\n",
    "plt.subplots_adjust(top=0.87)\n",
    "plt.suptitle('Amount of information provided by use scenario', fontsize = 17)\n",
    "\n",
    "# add distplots below\n",
    "sns.distplot(banking, ax=ax_dist, label='Banking', kde=True, rug=True, color='g', norm_hist=True, bins=2)\n",
    "sns.distplot(shopping, ax=ax_dist, label='Shopping', kde=True, rug=True, color='m', norm_hist=True, bins=2)\n",
    "\n",
    "ax_dist.axvline(np.mean(banking), color='g', linestyle='--')\n",
    "ax_dist.axvline(np.mean(shopping), color='m', linestyle='--')\n",
    "plt.legend()\n",
    "plt.xlabel('Percentage of information', fontsize=16)\n",
    "ax_box1.set(xlabel='')\n",
    "ax_box2.set(xlabel='')"
   ]
  },
  {
   "cell_type": "markdown",
   "metadata": {},
   "source": [
    "From the graph above, we see that the mean of the banking is greater than the mean of shopping. This shows us that regardless of cultural background, users are more likely to provide personal information in the banking scenario. "
   ]
  },
  {
   "cell_type": "markdown",
   "metadata": {},
   "source": [
    "-------------------------------\n",
    "## 3. Mann-Whitney Test\n",
    "The Mann-Whitney Test allows you to determine if the observed difference is statistically significant without making the assumption that the values are normally distributed. You should have two independent variables and one continuous dependent variable. \n",
    "\n",
    "### Code Implementation \n",
    "We can run the test on the same banking vs. shopping scenario. "
   ]
  },
  {
   "cell_type": "code",
   "execution_count": 8,
   "metadata": {},
   "outputs": [
    {
     "name": "stdout",
     "output_type": "stream",
     "text": [
      "t: 14795.5\n",
      "p: 4.1e-05\n"
     ]
    }
   ],
   "source": [
    "t, p = scipy.stats.mannwhitneyu(df[df['scenario'] == 'Bank'].percent, df[df['scenario'] == 'Shop'].percent)\n",
    "print('t: ' + str(t.round(4)))\n",
    "print('p: ' + str(p.round(6)))"
   ]
  },
  {
   "cell_type": "markdown",
   "metadata": {},
   "source": [
    "----------------------------\n",
    "## 4. One-Way Analysis of Variance (ANOVA)\n",
    "ANOVA is similar to a t-test, but it is used when there are three or more independent variables (categorical). It assumes normal distribution (use Kruskal-Wallis if abnormal?). One-way ANOVA compares the means between the variables to test whether the difference is statistically significant. However, it does not tell you which specific groups were statistically different from one another. Thus, a post-hoc analysis is required. \n",
    "\n",
    "\n",
    "### Code Implementation\n",
    "The result below suggests that there is a statistical difference in the means of the three variables. "
   ]
  },
  {
   "cell_type": "code",
   "execution_count": 9,
   "metadata": {},
   "outputs": [
    {
     "data": {
      "text/plain": [
       "F_onewayResult(statistic=11.171874914065159, pvalue=1.7072783704546878e-05)"
      ]
     },
     "execution_count": 9,
     "metadata": {},
     "output_type": "execute_result"
    }
   ],
   "source": [
    "# we can create a third variable, and compare the var1, var2, and var3 with one-way ANOVA\n",
    "var3 = df[df['culture'] == 'USA'].percent\n",
    "scipy.stats.f_oneway(banking, shopping, var3)"
   ]
  },
  {
   "cell_type": "markdown",
   "metadata": {},
   "source": [
    "-----------------------------------\n",
    "## 5. Two-Way ANOVA\n",
    "A two-way ANOVA can be used when you want to know how two independent variables have an interaction effect on a dependent variable. CAVEAT: a two-way ANOVA does not tell which variable is dominant. \n",
    "\n",
    "### Code Implementation\n",
    "Below in the code, we see **_if there is an interaction effect between culture and scenario use cases on the total amount of information provided._** For example, would Americans be more willing to provide personal information than Koreans? If so, does the use case (either banking vs. shopping) affect at all? "
   ]
  },
  {
   "cell_type": "code",
   "execution_count": 10,
   "metadata": {},
   "outputs": [
    {
     "data": {
      "text/html": [
       "<div>\n",
       "<style scoped>\n",
       "    .dataframe tbody tr th:only-of-type {\n",
       "        vertical-align: middle;\n",
       "    }\n",
       "\n",
       "    .dataframe tbody tr th {\n",
       "        vertical-align: top;\n",
       "    }\n",
       "\n",
       "    .dataframe thead th {\n",
       "        text-align: right;\n",
       "    }\n",
       "</style>\n",
       "<table border=\"1\" class=\"dataframe\">\n",
       "  <thead>\n",
       "    <tr style=\"text-align: right;\">\n",
       "      <th></th>\n",
       "      <th>sum_sq</th>\n",
       "      <th>df</th>\n",
       "      <th>F</th>\n",
       "      <th>PR(&gt;F)</th>\n",
       "    </tr>\n",
       "  </thead>\n",
       "  <tbody>\n",
       "    <tr>\n",
       "      <th>culture</th>\n",
       "      <td>0.000344</td>\n",
       "      <td>1.0</td>\n",
       "      <td>0.007439</td>\n",
       "      <td>0.931312</td>\n",
       "    </tr>\n",
       "    <tr>\n",
       "      <th>scenario</th>\n",
       "      <td>1.070130</td>\n",
       "      <td>1.0</td>\n",
       "      <td>23.159298</td>\n",
       "      <td>0.000002</td>\n",
       "    </tr>\n",
       "    <tr>\n",
       "      <th>culture:scenario</th>\n",
       "      <td>0.032834</td>\n",
       "      <td>1.0</td>\n",
       "      <td>0.710576</td>\n",
       "      <td>0.399772</td>\n",
       "    </tr>\n",
       "    <tr>\n",
       "      <th>Residual</th>\n",
       "      <td>17.928461</td>\n",
       "      <td>388.0</td>\n",
       "      <td>NaN</td>\n",
       "      <td>NaN</td>\n",
       "    </tr>\n",
       "  </tbody>\n",
       "</table>\n",
       "</div>"
      ],
      "text/plain": [
       "                     sum_sq     df          F    PR(>F)\n",
       "culture            0.000344    1.0   0.007439  0.931312\n",
       "scenario           1.070130    1.0  23.159298  0.000002\n",
       "culture:scenario   0.032834    1.0   0.710576  0.399772\n",
       "Residual          17.928461  388.0        NaN       NaN"
      ]
     },
     "execution_count": 10,
     "metadata": {},
     "output_type": "execute_result"
    }
   ],
   "source": [
    "# we give in a string value of each variable, and the interaction variable 'culture:scenario'\n",
    "\n",
    "model = ols('percent ~ culture + scenario + culture:scenario', data=df).fit()\n",
    "sm.stats.anova_lm(model, typ=2)"
   ]
  },
  {
   "cell_type": "markdown",
   "metadata": {},
   "source": [
    "## Conclusion\n",
    "\n",
    "From the table above, only scenario has a sole effect on the total amount of information provided (depicted as `percent` in the dataframe). We see culture, and the interaction of culture and scenario do not have an effect on the amount of information that users provided. \n",
    "\n",
    "The finding matches with the previous t-test and graph results, where users provided more information in the banking than they would in shopping. "
   ]
  }
 ],
 "metadata": {
  "kernelspec": {
   "display_name": "py3",
   "language": "python",
   "name": "py3"
  },
  "language_info": {
   "codemirror_mode": {
    "name": "ipython",
    "version": 3
   },
   "file_extension": ".py",
   "mimetype": "text/x-python",
   "name": "python",
   "nbconvert_exporter": "python",
   "pygments_lexer": "ipython3",
   "version": "3.6.8"
  }
 },
 "nbformat": 4,
 "nbformat_minor": 2
}
