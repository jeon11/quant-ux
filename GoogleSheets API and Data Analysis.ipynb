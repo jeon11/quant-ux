{
 "cells": [
  {
   "cell_type": "markdown",
   "metadata": {},
   "source": [
    "Jin Jeon\n",
    "\n",
    "HCDE 530 Computational Concepts\n",
    "\n",
    "## Project 1b: GoogleSheets API and Data Analysis\n",
    "\n",
    "### Introduction\n",
    "\n",
    "#### Using Google Cloud Platform and its API : \n",
    "**Google Cloud Platform** is a suite of cloud computing services that lets developers interact with APIs that involve data storage, data analytics, and machine learning. In this notebook, I use GoogleSheets API to directly read in sheets from the drive. Besides reading in the sheets, the API allows you to create, manipulate, filter, and organize metadata. \n",
    "\n",
    "With GoogleSheets API, I study survey data collected from my previous projects in user research. The process involves establishing credentials and keys so the program knows to use my credentials to access the private files. \n",
    "\n",
    "\n",
    "#### Goal of this notebook: \n",
    "\n",
    "Survey studies are essential for understanding the users because they can be quickly developed and sent out to receive a good amount of sample in a short period of time. Surveys are powerful to be utilized for conducting initial research at a discovery stage to explore the general problem space and user behaviors. \n",
    "\n",
    "One of the free and efficient tools is the Google Forms. With GoogleSheets API, we are able to access and manipulate incoming or completed data through code. Furthermore, we can easily shape and analyze data through Python. \n",
    "\n",
    "While Google Form is capable of generating pie graphs and bar graphs to summarize the survey results, the visualizations are often rudimentary or basic. Using Python, we can easily handle large sets of data and breakdown and analyze the data by each demographic group, and probe for any interesting results.\n",
    "\n",
    "**Specifically, let's see if there are any significant differences or responses that are made for each age group and gender.**"
   ]
  },
  {
   "cell_type": "markdown",
   "metadata": {},
   "source": [
    "## Setting up Google Sheets API\n",
    "\n",
    "The high level process of setting up Google API is as follows: \n",
    "\n",
    "**1. Create an Oauth credential** (Instruction link: https://developers.google.com/workspace/guides/create-credentials)\n",
    "\n",
    "\n",
    "**2. Pip install the required packages** \n",
    "\n",
    "> ` pip install --upgrade google-api-python-client google-auth-httplib2 google-auth-oauthlib` \n",
    "\n",
    "**3. Set scope and spreadsheet ID**\n",
    "\n",
    " - **Auth scopes** set the permissions that your code requests to authorize for the app\n",
    "For example, scope code of:\n",
    "    - **.readonly** allows to read all resources and the meta data but with no writing operations\n",
    "    - **.label** lets you create, read, update, and delete labels. \n",
    "\n",
    "- **Spreadsheet ID** is the parameter that gets used to tell which spreadsheet to access. The ID is called from a part of the full URL."
   ]
  },
  {
   "cell_type": "markdown",
   "metadata": {},
   "source": [
    "## Code Implementation\n",
    "\n",
    "Please note that the following code will only run if you have your Google `credential.json` and `token.json` within the working directory. "
   ]
  },
  {
   "cell_type": "code",
   "execution_count": 1,
   "metadata": {},
   "outputs": [],
   "source": [
    "from __future__ import print_function\n",
    "import os.path\n",
    "from googleapiclient.discovery import build\n",
    "from google_auth_oauthlib.flow import InstalledAppFlow\n",
    "from google.auth.transport.requests import Request\n",
    "from google.oauth2.credentials import Credentials\n",
    "\n",
    "SCOPES = ['https://www.googleapis.com/auth/spreadsheets.readonly']\n",
    "SPREADSHEET_ID = '11Den6g5nuR4B2CCUML1KrA0bEZXRpPZ7t83Ieyi7NJ4'\n",
    "\n",
    "# Specify which sheet or row/column of data to call in\n",
    "# refer to https://developers.google.com/sheets/api/guides/concepts#a1_notation for detail\n",
    "RANGE_NAME = 'health_data'\n",
    "\n",
    "creds = Credentials.from_authorized_user_file('token.json', SCOPES)\n",
    "service = build('sheets', 'v4', credentials=creds)\n",
    "\n",
    "# Call the Sheets API to read in the data\n",
    "sheet = service.spreadsheets()\n",
    "result = sheet.values().get(spreadsheetId = SPREADSHEET_ID,\n",
    "                            range = RANGE_NAME).execute()\n",
    "values = result.get('values', [])"
   ]
  },
  {
   "cell_type": "markdown",
   "metadata": {},
   "source": [
    "**We now have the sheet successfully loaded without having to open the Google Drive at all. We can use the data on the fly. Below, we will just confirm the data type that the data was read in.** "
   ]
  },
  {
   "cell_type": "code",
   "execution_count": 2,
   "metadata": {},
   "outputs": [
    {
     "name": "stdout",
     "output_type": "stream",
     "text": [
      "<class 'dict'>\n",
      "<class 'list'>\n"
     ]
    }
   ],
   "source": [
    "print(type(result))\n",
    "print(type(values))"
   ]
  },
  {
   "cell_type": "markdown",
   "metadata": {},
   "source": [
    "**Now let's convert it into a pandas dataframe so we can easily manipuate the data.**"
   ]
  },
  {
   "cell_type": "code",
   "execution_count": 3,
   "metadata": {},
   "outputs": [
    {
     "name": "stdout",
     "output_type": "stream",
     "text": [
      "<class 'pandas.core.frame.DataFrame'>\n"
     ]
    },
    {
     "data": {
      "text/plain": [
       "(71, 27)"
      ]
     },
     "execution_count": 3,
     "metadata": {},
     "output_type": "execute_result"
    }
   ],
   "source": [
    "import pandas as pd\n",
    "\n",
    "data = pd.DataFrame(values[1:], columns=values[0])\n",
    "\n",
    "# let's confirm \n",
    "print(type(data))\n",
    "\n",
    "data.shape"
   ]
  },
  {
   "cell_type": "markdown",
   "metadata": {},
   "source": [
    "## Dataset\n",
    "From the code above, we translated the data into pandas dataframe. Using `data.shape`, we know that there are total 27 questions collected from 71 participants. For simplicity, I remove any data that does not prefer to disclose gender. This brings the data size to 68. Due to the extensive length and branching logic within the survey, the data becomes more textual and qualitative for questions or columns in the back. I will primarily use selected columns that are of interest. \n",
    "\n",
    "Let's have a quick glance at the dataset. "
   ]
  },
  {
   "cell_type": "code",
   "execution_count": 4,
   "metadata": {},
   "outputs": [
    {
     "name": "stdout",
     "output_type": "stream",
     "text": [
      "There are total 69 participants.\n",
      "The survey consists of 27 questions (columns in the dataframe).\n"
     ]
    }
   ],
   "source": [
    "# for simplicity, let's constrain the gender option to only two\n",
    "gender_options = ['Man', 'Woman']\n",
    "data = data[data['What is your gender?'].isin(gender_options)]\n",
    "\n",
    "print('There are total ' + str(len(data)) + ' participants.')\n",
    "print('The survey consists of ' + str(data.shape[1]) + ' questions (columns in the dataframe).')\n",
    "\n",
    "data.head(3)\n",
    "\n",
    "# convert the column string values to integers\n",
    "data['How would you rate your health?'] = data['How would you rate your health?'].astype(int)"
   ]
  },
  {
   "cell_type": "markdown",
   "metadata": {},
   "source": [
    "## Data Analysis\n",
    "Now that we have seen the general dataframe structure, let's explore probing the data for analysis. "
   ]
  },
  {
   "cell_type": "code",
   "execution_count": 5,
   "metadata": {},
   "outputs": [],
   "source": [
    "import os\n",
    "import pandas as pd\n",
    "from collections import Counter\n",
    "import re\n",
    "import numpy as np\n",
    "import matplotlib.pyplot as plt\n",
    "import seaborn as sns\n",
    "from nltk.corpus import stopwords\n",
    "import warnings\n",
    "from wordcloud import WordCloud, STOPWORDS, ImageColorGenerator\n",
    "import scipy\n",
    "from tabulate import tabulate\n",
    "\n",
    "warnings.simplefilter(action='ignore', category=FutureWarning)  # suppress any warning\n",
    "sns.set_color_codes('pastel')  # set color"
   ]
  },
  {
   "cell_type": "markdown",
   "metadata": {},
   "source": [
    "### Querying data\n",
    "Before we play around with data, let's query out the data that are of interest. This way we can manipulate the data more effectively without having to call on the entire dataset `data` everytime. \n",
    "\n",
    "There are total 7 different age groups. "
   ]
  },
  {
   "cell_type": "code",
   "execution_count": 6,
   "metadata": {},
   "outputs": [],
   "source": [
    "# let's divde the data by gender first \n",
    "females = data.loc[data['What is your gender?'] == 'Woman']\n",
    "males = data.loc[data['What is your gender?'] == 'Man']\n",
    "\n",
    "# let's also create dataset divided by age group\n",
    "age_under18 = data.loc[data['What age range are you?'] == 'Under 18']\n",
    "age_18to24 = data.loc[data['What age range are you?'] == '18 - 24']\n",
    "age_25to34 = data.loc[data['What age range are you?'] == '25 - 34']\n",
    "age_35to44 = data.loc[data['What age range are you?'] == '35 - 44']\n",
    "age_45to54 = data.loc[data['What age range are you?'] == '45 - 54']\n",
    "age_55to64 = data.loc[data['What age range are you?'] == '55 - 64']\n",
    "age_over65 = data.loc[data['What age range are you?'] == '65 or older']"
   ]
  },
  {
   "cell_type": "markdown",
   "metadata": {},
   "source": [
    "## Research Question: How does self-perception of health rating differ by gender and age?\n",
    "\n",
    "Participants were asked, How would you rate your health? (5 being healthy, 1 being not healthy)."
   ]
  },
  {
   "cell_type": "markdown",
   "metadata": {},
   "source": [
    "### A. Health rating by gender\n",
    "Let's breakdown the data to see how self-perception of health wellness varies by gender and different age groups. In the code below, I first quary females and males from the data."
   ]
  },
  {
   "cell_type": "code",
   "execution_count": 7,
   "metadata": {},
   "outputs": [
    {
     "name": "stdout",
     "output_type": "stream",
     "text": [
      "Mean of males' self-health wellness: 3.5161290322580645\n",
      "Mean of females' self-health wellness: 3.4473684210526314\n"
     ]
    }
   ],
   "source": [
    "# columns[4] is the column for health rating\n",
    "mean_males = np.mean(males[males.columns[4]])\n",
    "mean_females = np.mean(females[females.columns[4]])\n",
    "\n",
    "print(\"Mean of males' self-health wellness: \" + str(mean_males))\n",
    "print(\"Mean of females' self-health wellness: \" + str(mean_females))"
   ]
  },
  {
   "cell_type": "markdown",
   "metadata": {},
   "source": [
    "### B. Health rating by age group\n",
    "\n",
    "Now let's breakdown the data to see how self-perception of health wellness varies by different age groups."
   ]
  },
  {
   "cell_type": "code",
   "execution_count": 8,
   "metadata": {},
   "outputs": [
    {
     "data": {
      "text/plain": [
       "What age range are you?\n",
       "18 - 24        3.615385\n",
       "25 - 34        3.285714\n",
       "35 - 44        3.500000\n",
       "45 - 54        3.375000\n",
       "55 - 64        3.600000\n",
       "65 or older    4.000000\n",
       "Under 18       3.000000\n",
       "Name: How would you rate your health?, dtype: float64"
      ]
     },
     "execution_count": 8,
     "metadata": {},
     "output_type": "execute_result"
    }
   ],
   "source": [
    "age = data.groupby('What age range are you?')['How would you rate your health?'].mean()\n",
    "age"
   ]
  },
  {
   "cell_type": "markdown",
   "metadata": {},
   "source": [
    "**Conversely, the age group 65 or older actually has the highest self-perception of wellness. The youngest group (age under 18) rated the lowest.**\n",
    "\n",
    "### C. T-test for statistical signifcance\n",
    "**However, with small samples of the two demographic groups `65 or older` and `Under 18`, we are not sure if the difference we see here is significant. Let's run a quick t-test to see if the difference we are seeing is statistically significant.** "
   ]
  },
  {
   "cell_type": "code",
   "execution_count": 9,
   "metadata": {},
   "outputs": [
    {
     "name": "stdout",
     "output_type": "stream",
     "text": [
      "t: 2.8983\n",
      "p: 0.0199\n"
     ]
    }
   ],
   "source": [
    "t, p = scipy.stats.ttest_ind(age_over65['How would you rate your health?'], age_under18['How would you rate your health?'])\n",
    "\n",
    "print('t: ' + str(t.round(4)))  \n",
    "print('p: ' + str(p.round(4)))  # the p-val should be less than 0.05 in general to assume the difference we observe is signifcant"
   ]
  },
  {
   "cell_type": "markdown",
   "metadata": {},
   "source": [
    "We see the p-value is 0.01 which is signifcant, which is one interesting find! So we can say that within this dataset, the people age over 65 perceive themselves to be more healthy than teenagers would do. "
   ]
  },
  {
   "cell_type": "markdown",
   "metadata": {},
   "source": [
    "### D. Health rating by age & gender group\n",
    "\n",
    "Now let's breakdown by both gender and different age groups to look at how the self perception of health wellness change."
   ]
  },
  {
   "cell_type": "code",
   "execution_count": 10,
   "metadata": {},
   "outputs": [
    {
     "data": {
      "text/plain": [
       "What age range are you?  What is your gender?\n",
       "18 - 24                  Man                     3.428571\n",
       "                         Woman                   3.833333\n",
       "25 - 34                  Man                     3.428571\n",
       "                         Woman                   3.214286\n",
       "35 - 44                  Man                     3.800000\n",
       "                         Woman                   3.285714\n",
       "45 - 54                  Man                     3.400000\n",
       "                         Woman                   3.333333\n",
       "55 - 64                  Man                     3.333333\n",
       "                         Woman                   4.000000\n",
       "65 or older              Man                     4.000000\n",
       "                         Woman                   4.000000\n",
       "Under 18                 Man                     3.000000\n",
       "                         Woman                   3.000000\n",
       "Name: How would you rate your health?, dtype: float64"
      ]
     },
     "execution_count": 10,
     "metadata": {},
     "output_type": "execute_result"
    }
   ],
   "source": [
    "age_gender = data.groupby(['What age range are you?', 'What is your gender?'])['How would you rate your health?'].mean()\n",
    "\n",
    "age_gender"
   ]
  },
  {
   "cell_type": "markdown",
   "metadata": {},
   "source": [
    "### E. Iteratively running t-test within each age group\n",
    "We have several different age groups with each male and female gender group. Within each age group, let's run a t-test to see if there are any significant observed differences. "
   ]
  },
  {
   "cell_type": "code",
   "execution_count": 11,
   "metadata": {},
   "outputs": [
    {
     "name": "stdout",
     "output_type": "stream",
     "text": [
      "age group      t value    p value\n",
      "-----------  ---------  ---------\n",
      "age_under18   nan        nan\n",
      "age_18to24     -1.1315     0.2819\n",
      "age_25to34      0.4504     0.6575\n",
      "age_35to44      0.9682     0.3558\n",
      "age_45to54      0.1637     0.8754\n",
      "age_55to64     -0.7746     0.495\n",
      "age_over65      0          1\n"
     ]
    },
    {
     "name": "stderr",
     "output_type": "stream",
     "text": [
      "/anaconda3/envs/py3/lib/python3.6/site-packages/numpy/core/fromnumeric.py:3367: RuntimeWarning: Degrees of freedom <= 0 for slice\n",
      "  **kwargs)\n",
      "/anaconda3/envs/py3/lib/python3.6/site-packages/numpy/core/_methods.py:132: RuntimeWarning: invalid value encountered in double_scalars\n",
      "  ret = ret.dtype.type(ret / rcount)\n"
     ]
    }
   ],
   "source": [
    "gender_options = ['Man', 'Woman']\n",
    "age_groups = ['age_under18', 'age_18to24', 'age_25to34', 'age_35to44', 'age_45to54', 'age_55to64', 'age_over65']\n",
    "\n",
    "table = []\n",
    "table.append(['age group', 't value', 'p value'])\n",
    "\n",
    "# iteratively run for t-tests within each age group defined in the list variable 'age_groups'\n",
    "for i in range(0, len(age_groups)):\n",
    "    data_string = \"['How would you rate your health?']\"\n",
    "    eval_string1 = age_groups[i] + '.loc[' + age_groups[i] + \"['What is your gender?'] == 'Man']\"\n",
    "    a = eval(eval_string1 + data_string)\n",
    "    eval_string2 = age_groups[i] + '.loc[' + age_groups[i] + \"['What is your gender?'] == 'Woman']\"\n",
    "    b = eval(eval_string2 + data_string)\n",
    "    strings_combined = 'scipy.stats.ttest_ind(a, b)'\n",
    "\n",
    "#     print(strings_combined)\n",
    "    t, p = eval(strings_combined)\n",
    "    \n",
    "    # we use a package called tabulate to print out a formatted table\n",
    "    table.append([age_groups[i], t.round(4) ,p.round(4)])\n",
    "\n",
    "print(tabulate(table, headers='firstrow'))"
   ]
  },
  {
   "cell_type": "markdown",
   "metadata": {},
   "source": [
    "**We see that the p-values are all above 0.05 which means that there are no observed significant differences in gender within each age group.**"
   ]
  },
  {
   "cell_type": "markdown",
   "metadata": {},
   "source": [
    "## Data Visualization"
   ]
  },
  {
   "cell_type": "code",
   "execution_count": 12,
   "metadata": {},
   "outputs": [
    {
     "data": {
      "image/png": "[encoded data removed]",
      "text/plain": [
       "<Figure size 474.875x360 with 1 Axes>"
      ]
     },
     "metadata": {
      "needs_background": "light"
     },
     "output_type": "display_data"
    }
   ],
   "source": [
    "age_plot = sns.catplot(x='What age range are you?', y='How would you rate your health?', \\\n",
    "                       hue='What is your gender?', kind=\"violin\", data=data);"
   ]
  },
  {
   "cell_type": "markdown",
   "metadata": {},
   "source": [
    "### References \n",
    "\n",
    "GoogleSheets API v4: https://developers.google.com/sheets/api/samples/reading\n",
    "\n",
    "Google Oauth: https://developers.google.com/identity/protocols/oauth2/service-account#python\n",
    "\n",
    "Google API Python Client: https://github.com/googleapis/google-api-python-client/blob/master/docs/oauth.md\n",
    "\n",
    "Credentials: https://developers.google.com/workspace/guides/create-credentials\n"
   ]
  },
  {
   "cell_type": "code",
   "execution_count": null,
   "metadata": {},
   "outputs": [],
   "source": []
  }
 ],
 "metadata": {
  "kernelspec": {
   "display_name": "py3",
   "language": "python",
   "name": "py3"
  },
  "language_info": {
   "codemirror_mode": {
    "name": "ipython",
    "version": 3
   },
   "file_extension": ".py",
   "mimetype": "text/x-python",
   "name": "python",
   "nbconvert_exporter": "python",
   "pygments_lexer": "ipython3",
   "version": "3.6.8"
  }
 },
 "nbformat": 4,
 "nbformat_minor": 2
}
