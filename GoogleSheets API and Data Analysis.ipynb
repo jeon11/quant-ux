{
 "cells": [
  {
   "cell_type": "markdown",
   "metadata": {},
   "source": [
    "Jin Jeon\n",
    "\n",
    "HCDE 530 Computational Concepts\n",
    "\n",
    "## Project 1b: GoogleSheets API and Data Analysis\n",
    "\n",
    "### Introduction\n",
    "\n",
    "#### Using Google Cloud Platform and its API : \n",
    "**Google Cloud Platform** is a suite of cloud computing services that lets developers interact with APIs that involve data storage, data analytics, and machine learning. In this notebook, I use GoogleSheets API to directly read in sheets from the drive. Besides reading in the sheets, the API allows you to create, manipulate, filter, and organize metadata. \n",
    "\n",
    "With GoogleSheets API, I study survey data collected from my previous projects in user research. The process involves establishing credentials and keys so the program knows to use my credentials to access the private files. \n",
    "\n",
    "\n",
    "#### Goal of this notebook: \n",
    "\n",
    "Survey studies are essential for understanding the users because they can be quickly developed and sent out to receive a good amount of sample in a short period of time. Surveys are powerful to be utilized for conducting initial research at a discovery stage to explore the general problem space and user behaviors. \n",
    "\n",
    "One of the free and efficient tools is the Google Forms. With GoogleSheets API, we are able to access and manipulate incoming or completed data through code. Furthermore, we can easily shape and analyze data through Python. \n",
    "\n",
    "While Google Form is capable of generating pie graphs and bar graphs to summarize the survey results, the visualizations are often rudimentary or basic. Using Python, we can easily handle large sets of data and breakdown and analyze the data by each demographic group, and probe for any interesting results.\n",
    "\n",
    "**Specifically, let's see if there are any significant differences or responses that are made for each age group and gender.**"
   ]
  },
  {
   "cell_type": "markdown",
   "metadata": {},
   "source": [
    "## Setting up Google Sheets API\n",
    "\n",
    "The high level process of setting up Google API is as follows: \n",
    "\n",
    "**1. Create an Oauth credential** (Instruction link: https://developers.google.com/workspace/guides/create-credentials)\n",
    "\n",
    "\n",
    "**2. Pip install the required packages** \n",
    "\n",
    "> ` pip install --upgrade google-api-python-client google-auth-httplib2 google-auth-oauthlib` \n",
    "\n",
    "**3. Set scope and spreadsheet ID**\n",
    "\n",
    " - **Auth scopes** set the permissions that your code requests to authorize for the app\n",
    "For example, scope code of:\n",
    "    - **.readonly** allows to read all resources and the meta data but with no writing operations\n",
    "    - **.label** lets you create, read, update, and delete labels. \n",
    "\n",
    "- **Spreadsheet ID** is the parameter that gets used to tell which spreadsheet to access. The ID is called from a part of the full URL."
   ]
  },
  {
   "cell_type": "markdown",
   "metadata": {},
   "source": [
    "## Code Implementation\n",
    "\n",
    "Please note that the following code will only run if you have your Google `credential.json` within the working directory. "
   ]
  },
  {
   "cell_type": "code",
   "execution_count": 1,
   "metadata": {},
   "outputs": [],
   "source": [
    "from __future__ import print_function\n",
    "import os.path\n",
    "from googleapiclient.discovery import build\n",
    "from google_auth_oauthlib.flow import InstalledAppFlow\n",
    "from google.auth.transport.requests import Request\n",
    "from google.oauth2.credentials import Credentials\n",
    "\n",
    "SCOPES = ['https://www.googleapis.com/auth/spreadsheets.readonly']\n",
    "SPREADSHEET_ID = '11Den6g5nuR4B2CCUML1KrA0bEZXRpPZ7t83Ieyi7NJ4'\n",
    "\n",
    "# Specify which sheet or row/column of data to call in\n",
    "# refer to https://developers.google.com/sheets/api/guides/concepts#a1_notation for detail\n",
    "RANGE_NAME = 'health_data'\n",
    "\n",
    "creds = Credentials.from_authorized_user_file('token.json', SCOPES)\n",
    "service = build('sheets', 'v4', credentials=creds)\n",
    "\n",
    "# Call the Sheets API to read in the data\n",
    "sheet = service.spreadsheets()\n",
    "result = sheet.values().get(spreadsheetId = SPREADSHEET_ID,\n",
    "                            range = RANGE_NAME).execute()\n",
    "values = result.get('values', [])"
   ]
  },
  {
   "cell_type": "markdown",
   "metadata": {},
   "source": [
    "**We now have the sheet successfully loaded without having to open the Google Drive at all. We can use the data on the fly. Below, we will just confirm the data type that the data was read in.** "
   ]
  },
  {
   "cell_type": "code",
   "execution_count": 2,
   "metadata": {},
   "outputs": [
    {
     "name": "stdout",
     "output_type": "stream",
     "text": [
      "<class 'dict'>\n",
      "<class 'list'>\n"
     ]
    }
   ],
   "source": [
    "print(type(result))\n",
    "print(type(values))"
   ]
  },
  {
   "cell_type": "markdown",
   "metadata": {},
   "source": [
    "**Now let's convert it into a pandas dataframe so we can easily manipuate the data.**"
   ]
  },
  {
   "cell_type": "code",
   "execution_count": 3,
   "metadata": {},
   "outputs": [
    {
     "name": "stdout",
     "output_type": "stream",
     "text": [
      "<class 'pandas.core.frame.DataFrame'>\n"
     ]
    },
    {
     "data": {
      "text/plain": [
       "(71, 27)"
      ]
     },
     "execution_count": 3,
     "metadata": {},
     "output_type": "execute_result"
    }
   ],
   "source": [
    "import pandas as pd\n",
    "\n",
    "data = pd.DataFrame(values[1:], columns=values[0])\n",
    "\n",
    "# let's confirm \n",
    "print(type(data))\n",
    "\n",
    "data.shape"
   ]
  },
  {
   "cell_type": "markdown",
   "metadata": {},
   "source": [
    "## Dataset\n",
    "From the code above, we translated the data into pandas dataframe. Using `data.shape`, we know that there are total 27 questions collected from 71 participants. Due to the extensive length and branching logic within the survey, the data becomes more textual and qualitative for questions or columns in the back. I will primarily use selected columns that are of interest. \n",
    "\n",
    "Let's have a quick glance at the dataset. "
   ]
  },
  {
   "cell_type": "code",
   "execution_count": 4,
   "metadata": {},
   "outputs": [
    {
     "name": "stdout",
     "output_type": "stream",
     "text": [
      "There are total 71 participants.\n",
      "The survey consists of 27 questions (columns in the dataframe).\n"
     ]
    },
    {
     "data": {
      "text/html": [
       "<div>\n",
       "<style scoped>\n",
       "    .dataframe tbody tr th:only-of-type {\n",
       "        vertical-align: middle;\n",
       "    }\n",
       "\n",
       "    .dataframe tbody tr th {\n",
       "        vertical-align: top;\n",
       "    }\n",
       "\n",
       "    .dataframe thead th {\n",
       "        text-align: right;\n",
       "    }\n",
       "</style>\n",
       "<table border=\"1\" class=\"dataframe\">\n",
       "  <thead>\n",
       "    <tr style=\"text-align: right;\">\n",
       "      <th></th>\n",
       "      <th>Timestamp</th>\n",
       "      <th>What age range are you?</th>\n",
       "      <th>What is your gender?</th>\n",
       "      <th>What actions do you take regarding your health?</th>\n",
       "      <th>How would you rate your health?</th>\n",
       "      <th>Have you ever tracked your health and/or fitness?</th>\n",
       "      <th>Why do you not track your health and/or fitness?</th>\n",
       "      <th>How do you generally like to keep track of activities?</th>\n",
       "      <th>Which of the following did you keep track of? (Select all that apply.)</th>\n",
       "      <th>What did you use to record your health and/or fitness? (Select all that apply.)</th>\n",
       "      <th>...</th>\n",
       "      <th>Which of the following do you keep track of? (Select all that apply.)</th>\n",
       "      <th>What do you use to record your health and/or fitness? (Select all that apply.)</th>\n",
       "      <th>If you use any app or device, could you tell us which one(s)?</th>\n",
       "      <th>Why do you track your health and/or fitness?</th>\n",
       "      <th>Is there anything you like about your current health and/or fitness tracking method?</th>\n",
       "      <th>In the last 30 days, how often have you tracked your health and/or fitness?</th>\n",
       "      <th>Who views your health and/or fitness information?</th>\n",
       "      <th>How is your health and/or fitness information being used?</th>\n",
       "      <th>What, if anything, has been helpful about the information you tracked?</th>\n",
       "      <th>Is there anything that could be better about your current health and/or fitness tracking method?</th>\n",
       "    </tr>\n",
       "  </thead>\n",
       "  <tbody>\n",
       "    <tr>\n",
       "      <th>0</th>\n",
       "      <td>2020/07/18 9:59:33 AM EST</td>\n",
       "      <td>Under 18</td>\n",
       "      <td>Man</td>\n",
       "      <td>Exercise;Learn more about your health (e.g. fr...</td>\n",
       "      <td>3</td>\n",
       "      <td>Yes and I am currently still tracking</td>\n",
       "      <td></td>\n",
       "      <td></td>\n",
       "      <td></td>\n",
       "      <td></td>\n",
       "      <td>...</td>\n",
       "      <td>Exercise (e.g. Steps taken, Distance, Calories...</td>\n",
       "      <td>Mobile App</td>\n",
       "      <td>Google fit and Pixels</td>\n",
       "      <td>It's interesting to look back at the data I ha...</td>\n",
       "      <td>My mood tracking method is very useful for dis...</td>\n",
       "      <td>Everyday</td>\n",
       "      <td>Myself</td>\n",
       "      <td>It's only used by me. It simply interests me.</td>\n",
       "      <td>I have concluded that I am prone to mood swing...</td>\n",
       "      <td>It could be more extensive.</td>\n",
       "    </tr>\n",
       "    <tr>\n",
       "      <th>1</th>\n",
       "      <td>2020/07/18 10:15:07 AM EST</td>\n",
       "      <td>25 - 34</td>\n",
       "      <td>Man</td>\n",
       "      <td>Exercise</td>\n",
       "      <td>4</td>\n",
       "      <td>Yes, I have tracked before but not in the last...</td>\n",
       "      <td></td>\n",
       "      <td></td>\n",
       "      <td>Cardiovascular (e.g. Heart rate, Blood pressur...</td>\n",
       "      <td>Wearable;Mobile App</td>\n",
       "      <td>...</td>\n",
       "      <td>None</td>\n",
       "      <td>None</td>\n",
       "      <td>None</td>\n",
       "      <td>None</td>\n",
       "      <td>None</td>\n",
       "      <td>None</td>\n",
       "      <td>None</td>\n",
       "      <td>None</td>\n",
       "      <td>None</td>\n",
       "      <td>None</td>\n",
       "    </tr>\n",
       "    <tr>\n",
       "      <th>2</th>\n",
       "      <td>2020/07/18 10:32:24 AM EST</td>\n",
       "      <td>18 - 24</td>\n",
       "      <td>Man</td>\n",
       "      <td>None of the above</td>\n",
       "      <td>2</td>\n",
       "      <td>No</td>\n",
       "      <td>I eat very little junk food, and am very thin....</td>\n",
       "      <td>To do lists and notes</td>\n",
       "      <td>None</td>\n",
       "      <td>None</td>\n",
       "      <td>...</td>\n",
       "      <td>None</td>\n",
       "      <td>None</td>\n",
       "      <td>None</td>\n",
       "      <td>None</td>\n",
       "      <td>None</td>\n",
       "      <td>None</td>\n",
       "      <td>None</td>\n",
       "      <td>None</td>\n",
       "      <td>None</td>\n",
       "      <td>None</td>\n",
       "    </tr>\n",
       "  </tbody>\n",
       "</table>\n",
       "<p>3 rows × 27 columns</p>\n",
       "</div>"
      ],
      "text/plain": [
       "                    Timestamp What age range are you? What is your gender?  \\\n",
       "0   2020/07/18 9:59:33 AM EST                Under 18                  Man   \n",
       "1  2020/07/18 10:15:07 AM EST                 25 - 34                  Man   \n",
       "2  2020/07/18 10:32:24 AM EST                 18 - 24                  Man   \n",
       "\n",
       "     What actions do you take regarding your health?  \\\n",
       "0  Exercise;Learn more about your health (e.g. fr...   \n",
       "1                                           Exercise   \n",
       "2                                  None of the above   \n",
       "\n",
       "  How would you rate your health?  \\\n",
       "0                               3   \n",
       "1                               4   \n",
       "2                               2   \n",
       "\n",
       "   Have you ever tracked your health and/or fitness?  \\\n",
       "0              Yes and I am currently still tracking   \n",
       "1  Yes, I have tracked before but not in the last...   \n",
       "2                                                 No   \n",
       "\n",
       "    Why do you not track your health and/or fitness?  \\\n",
       "0                                                      \n",
       "1                                                      \n",
       "2  I eat very little junk food, and am very thin....   \n",
       "\n",
       "  How do you generally like to keep track of activities?  \\\n",
       "0                                                          \n",
       "1                                                          \n",
       "2                              To do lists and notes       \n",
       "\n",
       "  Which of the following did you keep track of? (Select all that apply.)   \\\n",
       "0                                                                           \n",
       "1  Cardiovascular (e.g. Heart rate, Blood pressur...                        \n",
       "2                                               None                        \n",
       "\n",
       "  What did you use to record your health and/or fitness? (Select all that apply.)   \\\n",
       "0                                                                                    \n",
       "1                                Wearable;Mobile App                                 \n",
       "2                                               None                                 \n",
       "\n",
       "   ... Which of the following do you keep track of? (Select all that apply.)   \\\n",
       "0  ...  Exercise (e.g. Steps taken, Distance, Calories...                       \n",
       "1  ...                                               None                       \n",
       "2  ...                                               None                       \n",
       "\n",
       "  What do you use to record your health and/or fitness? (Select all that apply.)   \\\n",
       "0                                         Mobile App                                \n",
       "1                                               None                                \n",
       "2                                               None                                \n",
       "\n",
       "  If you use any app or device, could you tell us which one(s)?   \\\n",
       "0                              Google fit and Pixels               \n",
       "1                                               None               \n",
       "2                                               None               \n",
       "\n",
       "        Why do you track your health and/or fitness?  \\\n",
       "0  It's interesting to look back at the data I ha...   \n",
       "1                                               None   \n",
       "2                                               None   \n",
       "\n",
       "  Is there anything you like about your current health and/or fitness tracking method?  \\\n",
       "0  My mood tracking method is very useful for dis...                                     \n",
       "1                                               None                                     \n",
       "2                                               None                                     \n",
       "\n",
       "  In the last 30 days, how often have you tracked your health and/or fitness?   \\\n",
       "0                                           Everyday                             \n",
       "1                                               None                             \n",
       "2                                               None                             \n",
       "\n",
       "  Who views your health and/or fitness information?  \\\n",
       "0                                            Myself   \n",
       "1                                              None   \n",
       "2                                              None   \n",
       "\n",
       "  How is your health and/or fitness information being used?   \\\n",
       "0      It's only used by me. It simply interests me.           \n",
       "1                                               None           \n",
       "2                                               None           \n",
       "\n",
       "  What, if anything, has been helpful about the information you tracked?   \\\n",
       "0  I have concluded that I am prone to mood swing...                        \n",
       "1                                               None                        \n",
       "2                                               None                        \n",
       "\n",
       "  Is there anything that could be better about your current health and/or fitness tracking method?  \n",
       "0                        It could be more extensive.                                                \n",
       "1                                               None                                                \n",
       "2                                               None                                                \n",
       "\n",
       "[3 rows x 27 columns]"
      ]
     },
     "execution_count": 4,
     "metadata": {},
     "output_type": "execute_result"
    }
   ],
   "source": [
    "print('There are total ' + str(len(data)) + ' participants.')\n",
    "print('The survey consists of ' + str(data.shape[1]) + ' questions (columns in the dataframe).')\n",
    "\n",
    "data.head(3)"
   ]
  },
  {
   "cell_type": "markdown",
   "metadata": {},
   "source": [
    "## Data Analysis\n",
    "Now that we have seen the general dataframe structure, let's explore probing the data for analysis. "
   ]
  },
  {
   "cell_type": "code",
   "execution_count": 14,
   "metadata": {},
   "outputs": [],
   "source": [
    "import os\n",
    "import pandas as pd\n",
    "from collections import Counter\n",
    "import re\n",
    "import numpy as np\n",
    "import matplotlib.pyplot as plt\n",
    "import seaborn as sns\n",
    "from nltk.corpus import stopwords\n",
    "import warnings\n",
    "from wordcloud import WordCloud, STOPWORDS, ImageColorGenerator\n",
    "import scipy"
   ]
  },
  {
   "cell_type": "markdown",
   "metadata": {},
   "source": [
    "### Querying data\n",
    "Before we play around with data, let's query out the data that are of interest. This way we can manipulate the data more effectively without having to call on the entire dataset `data` everytime. \n",
    "\n",
    "There are total 7 different age groups. "
   ]
  },
  {
   "cell_type": "code",
   "execution_count": 17,
   "metadata": {},
   "outputs": [],
   "source": [
    "# let's divde the data by gender first \n",
    "females = data.loc[data['What is your gender?'] == 'Woman']\n",
    "males = data.loc[data['What is your gender?'] == 'Man']\n",
    "\n",
    "# let's also create dataset divided by age group\n",
    "age_under18 = data.loc[data['What age range are you?'] == 'Under 18']\n",
    "age_18to24 = data.loc[data['What age range are you?'] == '18 - 24']\n",
    "age_25to34 = data.loc[data['What age range are you?'] == '25 - 34']\n",
    "age_35to44 = data.loc[data['What age range are you?'] == '35 - 44']\n",
    "age_45to54 = data.loc[data['What age range are you?'] == '45 - 54']\n",
    "age_55to64 = data.loc[data['What age range are you?'] == '55 - 64']\n",
    "age_over65 = data.loc[data['What age range are you?'] == '65 or older']"
   ]
  },
  {
   "cell_type": "markdown",
   "metadata": {},
   "source": [
    "## Research Question: How does self-perception of health rating differ by gender and age?\n",
    "\n",
    "Participants were asked, How would you rate your health? (5 being healthy, 1 being not healthy)."
   ]
  },
  {
   "cell_type": "markdown",
   "metadata": {},
   "source": [
    "### A. Health rating by gender\n",
    "Let's breakdown the data to see how self-perception of health wellness varies by gender and different age groups. In the code below, I first quary females and males from the data."
   ]
  },
  {
   "cell_type": "code",
   "execution_count": null,
   "metadata": {},
   "outputs": [],
   "source": [
    "# convert the column string values to integers\n",
    "data['How would you rate your health?'] = data['How would you rate your health?'].astype(int)\n",
    "\n",
    "# columns[4] is the column for health rating\n",
    "mean_males = np.mean(males[males.columns[4]])\n",
    "mean_females = np.mean(females[females.columns[4]])\n",
    "\n",
    "print(\"Mean of males' self-health wellness: \" + str(mean_males))\n",
    "print(\"Mean of females' self-health wellness: \" + str(mean_females))"
   ]
  },
  {
   "cell_type": "markdown",
   "metadata": {},
   "source": [
    "### B. Health rating by age group\n",
    "\n",
    "Now let's breakdown the data to see how self-perception of health wellness varies by different age groups."
   ]
  },
  {
   "cell_type": "code",
   "execution_count": 12,
   "metadata": {},
   "outputs": [
    {
     "data": {
      "text/plain": [
       "What age range are you?\n",
       "18 - 24        3.666667\n",
       "25 - 34        3.285714\n",
       "35 - 44        3.500000\n",
       "45 - 54        3.375000\n",
       "55 - 64        3.600000\n",
       "65 or older    4.000000\n",
       "Under 18       3.000000\n",
       "Name: How would you rate your health?, dtype: float64"
      ]
     },
     "execution_count": 12,
     "metadata": {},
     "output_type": "execute_result"
    }
   ],
   "source": [
    "age = data.groupby('What age range are you?')['How would you rate your health?'].mean()\n",
    "age"
   ]
  },
  {
   "cell_type": "markdown",
   "metadata": {},
   "source": [
    "**Conversely, the age group 65 or older actually has the highest self-perception of wellness. The youngest group (age under 18) rated the lowest.**\n",
    "\n",
    "### T-test for statistical signifcance\n",
    "**However, with small samples of the two demographic groups `65 or older` and `Under 18`, we are not sure if the difference we see here is significant. Let's run a quick t-test to see if the difference we are seeing is statistically significant.** "
   ]
  },
  {
   "cell_type": "code",
   "execution_count": 19,
   "metadata": {},
   "outputs": [
    {
     "name": "stdout",
     "output_type": "stream",
     "text": [
      "t: 2.8983\n",
      "p: 0.019944\n"
     ]
    }
   ],
   "source": [
    "t, p = scipy.stats.ttest_ind(age_over65['How would you rate your health?'], age_under18['How would you rate your health?'])\n",
    "\n",
    "print('t: ' + str(t.round(4)))  \n",
    "print('p: ' + str(p.round(6)))  # the p-val should be less than 0.05 in general to assume the difference we observe is signifcant"
   ]
  },
  {
   "cell_type": "markdown",
   "metadata": {},
   "source": [
    "We see the p-value is 0.01 which is signifcant, which is one interesting find! So we can say that within this dataset, the people age over 65 perceive themselves to be more healthy than teenagers would do. "
   ]
  },
  {
   "cell_type": "markdown",
   "metadata": {},
   "source": [
    "### C. Health rating by age & gender group\n",
    "\n",
    "Now let's breakdown by both gender and different age groups to look at how the self perception of health wellness change."
   ]
  },
  {
   "cell_type": "code",
   "execution_count": 13,
   "metadata": {},
   "outputs": [
    {
     "data": {
      "text/plain": [
       "What age range are you?  What is your gender?\n",
       "18 - 24                  Man                     3.428571\n",
       "                         Non-Binary              4.000000\n",
       "                         Prefer not to say       4.000000\n",
       "                         Woman                   3.833333\n",
       "25 - 34                  Man                     3.428571\n",
       "                         Woman                   3.214286\n",
       "35 - 44                  Man                     3.750000\n",
       "                         Man;Woman               4.000000\n",
       "                         Woman                   3.285714\n",
       "45 - 54                  Man                     3.400000\n",
       "                         Woman                   3.333333\n",
       "55 - 64                  Man                     3.333333\n",
       "                         Woman                   4.000000\n",
       "65 or older              Man                     4.000000\n",
       "                         Woman                   4.000000\n",
       "Under 18                 Man                     3.000000\n",
       "                         Woman                   3.000000\n",
       "Name: How would you rate your health?, dtype: float64"
      ]
     },
     "execution_count": 13,
     "metadata": {},
     "output_type": "execute_result"
    }
   ],
   "source": [
    "age_gender = data.groupby(['What age range are you?', 'What is your gender?'])['How would you rate your health?'].mean()\n",
    "\n",
    "age_gender"
   ]
  },
  {
   "cell_type": "code",
   "execution_count": null,
   "metadata": {},
   "outputs": [],
   "source": [
    "data"
   ]
  },
  {
   "cell_type": "markdown",
   "metadata": {},
   "source": [
    "### References \n",
    "\n",
    "GoogleSheets API v4: https://developers.google.com/sheets/api/samples/reading\n",
    "\n",
    "Google Oauth: https://developers.google.com/identity/protocols/oauth2/service-account#python\n",
    "\n",
    "Google API Python Client: https://github.com/googleapis/google-api-python-client/blob/master/docs/oauth.md\n",
    "\n",
    "Credentials: https://developers.google.com/workspace/guides/create-credentials\n"
   ]
  },
  {
   "cell_type": "code",
   "execution_count": null,
   "metadata": {},
   "outputs": [],
   "source": []
  }
 ],
 "metadata": {
  "kernelspec": {
   "display_name": "py3",
   "language": "python",
   "name": "py3"
  },
  "language_info": {
   "codemirror_mode": {
    "name": "ipython",
    "version": 3
   },
   "file_extension": ".py",
   "mimetype": "text/x-python",
   "name": "python",
   "nbconvert_exporter": "python",
   "pygments_lexer": "ipython3",
   "version": "3.6.8"
  }
 },
 "nbformat": 4,
 "nbformat_minor": 2
}
